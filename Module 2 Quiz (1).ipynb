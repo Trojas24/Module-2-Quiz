{
 "cells": [
  {
   "cell_type": "markdown",
   "id": "372f7eab",
   "metadata": {},
   "source": [
    "Module 2 Quiz"
   ]
  },
  {
   "cell_type": "markdown",
   "id": "12387090-36bd-4b69-a576-a6e152a73469",
   "metadata": {},
   "source": [
    "Question 1: boolean True + boolean True - boolean False = ?"
   ]
  },
  {
   "cell_type": "code",
   "execution_count": 3,
   "id": "d2af9a54-68e5-4621-b9c9-7063a614d56b",
   "metadata": {},
   "outputs": [
    {
     "name": "stdout",
     "output_type": "stream",
     "text": [
      "2\n"
     ]
    }
   ],
   "source": [
    "boolean_true = True \n",
    "boolean_false = False \n",
    "Q1 = boolean_true + boolean_true - boolean_false\n",
    "print(Q1)"
   ]
  },
  {
   "cell_type": "markdown",
   "id": "4541dad2-4c4f-42dc-9661-bab4c4291833",
   "metadata": {},
   "source": [
    " Question 2: logical tracker = True\n",
    "\n",
    "logical tracker = logical tracker & logical tracker\n",
    "\n",
    "logical tracker = logical tracker | (logical tracker - logical tracker)\n",
    "\n",
    "logical tracker  = ?"
   ]
  },
  {
   "cell_type": "code",
   "execution_count": 13,
   "id": "8f225057-125a-4567-bac0-6e0da68a24e4",
   "metadata": {},
   "outputs": [
    {
     "name": "stdout",
     "output_type": "stream",
     "text": [
      "1\n"
     ]
    }
   ],
   "source": [
    "logical_tracker = True\n",
    "logical_tracker = logical_tracker & logical_tracker\n",
    "\n",
    "logical_tracker = logical_tracker | (logical_tracker - logical_tracker)\n",
    "\n",
    "print(logical_tracker)"
   ]
  },
  {
   "cell_type": "markdown",
   "id": "5cd832fb-0c92-4575-bedf-f817912840dc",
   "metadata": {},
   "source": [
    "Question 5:string = \"E. Coli\"\n",
    "\n",
    "string[2]="
   ]
  },
  {
   "cell_type": "code",
   "execution_count": 15,
   "id": "d755db95-ac5d-440a-b48f-5d894a39f187",
   "metadata": {},
   "outputs": [
    {
     "name": "stdout",
     "output_type": "stream",
     "text": [
      " \n"
     ]
    }
   ],
   "source": [
    "string = \"E. Coli\"\n",
    "\n",
    "print(string[2])"
   ]
  },
  {
   "cell_type": "markdown",
   "id": "3c21611c-a176-4007-bcfc-e2c062e5cb3e",
   "metadata": {},
   "source": [
    "Question 6 :Oh no! My string has a typo!\n",
    "\n",
    "string = \"I Bove python\"\n",
    "\n",
    "No worries though. I'll just fix that.\n",
    "\n",
    "string[2]=\"L\""
   ]
  },
  {
   "cell_type": "code",
   "execution_count": 19,
   "id": "4a2fc667-dfd6-4e8a-93c3-0bc1f8420ca7",
   "metadata": {},
   "outputs": [
    {
     "ename": "TypeError",
     "evalue": "'str' object does not support item assignment",
     "output_type": "error",
     "traceback": [
      "\u001b[1;31m---------------------------------------------------------------------------\u001b[0m",
      "\u001b[1;31mTypeError\u001b[0m                                 Traceback (most recent call last)",
      "Cell \u001b[1;32mIn[19], line 3\u001b[0m\n\u001b[0;32m      1\u001b[0m string \u001b[38;5;241m=\u001b[39m \u001b[38;5;124m\"\u001b[39m\u001b[38;5;124mI Bove python\u001b[39m\u001b[38;5;124m\"\u001b[39m\n\u001b[1;32m----> 3\u001b[0m string[\u001b[38;5;241m2\u001b[39m] \u001b[38;5;241m=\u001b[39m \u001b[38;5;124m\"\u001b[39m\u001b[38;5;124mL\u001b[39m\u001b[38;5;124m\"\u001b[39m\n",
      "\u001b[1;31mTypeError\u001b[0m: 'str' object does not support item assignment"
     ]
    }
   ],
   "source": [
    "string = \"I Bove python\"\n",
    "\n",
    "string[2] = \"L\""
   ]
  },
  {
   "cell_type": "markdown",
   "id": "c12d2edb",
   "metadata": {},
   "source": [
    "Question 7\n",
    "Jack has been prescribed 5 medications, write a variable named \"Medication\", and store in it the number of medications he has. Print the type of the variable ''Medication\". Submit your code either here as a text entry, or on your GitHub page in a new repository and past the link here. We encourage you to use GitHub. Don't forget to add comments to your code."
   ]
  },
  {
   "cell_type": "code",
   "execution_count": 1,
   "id": "e2c3583e",
   "metadata": {},
   "outputs": [
    {
     "name": "stdout",
     "output_type": "stream",
     "text": [
      "<class 'int'>\n"
     ]
    }
   ],
   "source": [
    "\n",
    "Medication = 5\n",
    "\n",
    "\n",
    "print(type(Medication))"
   ]
  },
  {
   "cell_type": "markdown",
   "id": "031fc673",
   "metadata": {},
   "source": [
    "Question 8\n",
    "Susan has a weight of 60 kilograms and a height of 1.58 meters. Write Code to Calculate and Print Susan’s Body Mass Index as float. Note: Body Mass Index is a person’s weight in kilograms divided by the square of height in meters. Reference: https://www.cdc.gov/healthyweight/assessing/bmi/adult_bmi/index.htmlLinks to an external site.. Submit your code either here as a text entry, or on your GitHub page in a new repository and past the link here. We encourage you to use GitHub. Don't forget to add comments to your code."
   ]
  },
  {
   "cell_type": "code",
   "execution_count": 5,
   "id": "cab1a9c9",
   "metadata": {},
   "outputs": [
    {
     "name": "stdout",
     "output_type": "stream",
     "text": [
      "24.034609838166958\n"
     ]
    }
   ],
   "source": [
    "susans_weight_kg = 60 \n",
    "susans_height_M = 1.58\n",
    "\n",
    "susans_bmi = susans_weight_kg/(susans_height_M**2)\n",
    "print(susans_bmi)"
   ]
  },
  {
   "cell_type": "markdown",
   "id": "896e5852",
   "metadata": {},
   "source": [
    "Question 9 \n",
    "Explain how the \"+\", addition operation works differently for integers and strings."
   ]
  },
  {
   "cell_type": "code",
   "execution_count": null,
   "id": "de10d01c",
   "metadata": {},
   "outputs": [],
   "source": [
    "# the addition for integers works intuitively how we think of \"+\" to work like in math. However for strings it concatenates strings together instead of \"adding\" values together"
   ]
  },
  {
   "cell_type": "markdown",
   "id": "a385801e",
   "metadata": {},
   "source": [
    "Question 10 \n",
    "Type the output if the strings \"7\" and \"3\" are added."
   ]
  },
  {
   "cell_type": "code",
   "execution_count": 6,
   "id": "30fa9d20",
   "metadata": {},
   "outputs": [
    {
     "name": "stdout",
     "output_type": "stream",
     "text": [
      "73\n"
     ]
    }
   ],
   "source": [
    "x = \"7\"\n",
    "y = \"3\"\n",
    "output = x + y\n",
    "print(output)"
   ]
  },
  {
   "cell_type": "code",
   "execution_count": null,
   "id": "bd47f6a6",
   "metadata": {},
   "outputs": [],
   "source": []
  }
 ],
 "metadata": {
  "kernelspec": {
   "display_name": "Python 3 (ipykernel)",
   "language": "python",
   "name": "python3"
  },
  "language_info": {
   "codemirror_mode": {
    "name": "ipython",
    "version": 3
   },
   "file_extension": ".py",
   "mimetype": "text/x-python",
   "name": "python",
   "nbconvert_exporter": "python",
   "pygments_lexer": "ipython3",
   "version": "3.12.4"
  }
 },
 "nbformat": 4,
 "nbformat_minor": 5
}
