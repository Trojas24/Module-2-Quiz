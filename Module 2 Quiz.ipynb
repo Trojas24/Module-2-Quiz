{
 "cells": [
  {
   "cell_type": "markdown",
   "id": "372f7eab",
   "metadata": {},
   "source": [
    "Module 2 Quiz"
   ]
  },
  {
   "cell_type": "markdown",
   "id": "c12d2edb",
   "metadata": {},
   "source": [
    "Question 7\n",
    "Jack has been prescribed 5 medications, write a variable named \"Medication\", and store in it the number of medications he has. Print the type of the variable ''Medication\". Submit your code either here as a text entry, or on your GitHub page in a new repository and past the link here. We encourage you to use GitHub. Don't forget to add comments to your code."
   ]
  },
  {
   "cell_type": "code",
   "execution_count": 1,
   "id": "e2c3583e",
   "metadata": {},
   "outputs": [
    {
     "name": "stdout",
     "output_type": "stream",
     "text": [
      "<class 'int'>\n"
     ]
    }
   ],
   "source": [
    "\n",
    "Medication = 5\n",
    "\n",
    "\n",
    "print(type(Medication))"
   ]
  },
  {
   "cell_type": "markdown",
   "id": "031fc673",
   "metadata": {},
   "source": [
    "Question 8\n",
    "Susan has a weight of 60 kilograms and a height of 1.58 meters. Write Code to Calculate and Print Susan’s Body Mass Index as float. Note: Body Mass Index is a person’s weight in kilograms divided by the square of height in meters. Reference: https://www.cdc.gov/healthyweight/assessing/bmi/adult_bmi/index.htmlLinks to an external site.. Submit your code either here as a text entry, or on your GitHub page in a new repository and past the link here. We encourage you to use GitHub. Don't forget to add comments to your code."
   ]
  },
  {
   "cell_type": "code",
   "execution_count": 5,
   "id": "cab1a9c9",
   "metadata": {},
   "outputs": [
    {
     "name": "stdout",
     "output_type": "stream",
     "text": [
      "24.034609838166958\n"
     ]
    }
   ],
   "source": [
    "susans_weight_kg = 60 \n",
    "susans_height_M = 1.58\n",
    "\n",
    "susans_bmi = susans_weight_kg/(susans_height_M**2)\n",
    "print(susans_bmi)"
   ]
  },
  {
   "cell_type": "markdown",
   "id": "896e5852",
   "metadata": {},
   "source": [
    "Question 9 \n",
    "Explain how the \"+\", addition operation works differently for integers and strings."
   ]
  },
  {
   "cell_type": "code",
   "execution_count": null,
   "id": "de10d01c",
   "metadata": {},
   "outputs": [],
   "source": [
    "# the addition for integers works intuitively how we think of \"+\" to work like in math. However for strings it concatenates strings together instead of \"adding\" values together"
   ]
  },
  {
   "cell_type": "markdown",
   "id": "a385801e",
   "metadata": {},
   "source": [
    "Question 10 \n",
    "Type the output if the strings \"7\" and \"3\" are added."
   ]
  },
  {
   "cell_type": "code",
   "execution_count": 6,
   "id": "30fa9d20",
   "metadata": {},
   "outputs": [
    {
     "name": "stdout",
     "output_type": "stream",
     "text": [
      "73\n"
     ]
    }
   ],
   "source": [
    "x = \"7\"\n",
    "y = \"3\"\n",
    "output = x + y\n",
    "print(output)"
   ]
  },
  {
   "cell_type": "code",
   "execution_count": null,
   "id": "bd47f6a6",
   "metadata": {},
   "outputs": [],
   "source": []
  }
 ],
 "metadata": {
  "kernelspec": {
   "display_name": "Python 3 (ipykernel)",
   "language": "python",
   "name": "python3"
  },
  "language_info": {
   "codemirror_mode": {
    "name": "ipython",
    "version": 3
   },
   "file_extension": ".py",
   "mimetype": "text/x-python",
   "name": "python",
   "nbconvert_exporter": "python",
   "pygments_lexer": "ipython3",
   "version": "3.11.7"
  }
 },
 "nbformat": 4,
 "nbformat_minor": 5
}
